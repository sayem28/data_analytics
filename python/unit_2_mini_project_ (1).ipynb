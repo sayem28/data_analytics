{
  "nbformat": 4,
  "nbformat_minor": 0,
  "metadata": {
    "colab": {
      "name": "unit 2 mini project .ipynb",
      "provenance": [],
      "collapsed_sections": []
    },
    "kernelspec": {
      "name": "python3",
      "display_name": "Python 3"
    }
  },
  "cells": [
    {
      "cell_type": "markdown",
      "metadata": {
        "id": "Q2DcbRfA_b_0"
      },
      "source": [
        "Ask the user for a number. Depending on whether the number is even or odd, print out an\r\n",
        "appropriate message to the user. Hint: how does an even / odd number react differently\r\n",
        "when divided by 2?\r\n",
        "Bonus:\r\n",
        "\r\n",
        "If the number is a multiple of 4, print out a different message.\r\n",
        "\r\n",
        "Bonus:\r\n",
        "\r\n",
        "If the number is a multiple of 4, print out a different message.\r\n",
        "\r\n",
        "Ask the user for two numbers: one number to check (call it num) and one number to divide\r\n",
        "by (check). If check divides evenly into num, tell that to the user. If not, print a different\r\n",
        "appropriate message.\r\n",
        "\r\n",
        "Write a custom function for finding whether the number is even or odd and call it in your\r\n",
        "main program code."
      ]
    },
    {
      "cell_type": "code",
      "metadata": {
        "id": "JAgDR87kJPBV"
      },
      "source": [
        "print(\"Welcome!\")\r\n",
        "prompt = (\"Please enter a number: \" + \"When you're done, type 'quit'.\")\r\n",
        "active = True\r\n",
        "while active:\r\n",
        "  message = input(prompt)\r\n",
        "  if message == \"quit\":\r\n",
        "    active = False\r\n",
        "  elif int(message) % 4 == 0:\r\n",
        "    print(\"This number is a multple of 4. Try a different number: \")\r\n",
        "  elif int(message) % 2 == 0:\r\n",
        "    print(\"This number is even. Try a different number: \")\r\n",
        "  else:\r\n",
        "    print(\"This number is odd. Try a different number:\")\r\n",
        "print(\"Exiting program. Please come back soon!\")"
      ],
      "execution_count": null,
      "outputs": []
    },
    {
      "cell_type": "code",
      "metadata": {
        "id": "81pcwam_fMUq"
      },
      "source": [
        ""
      ],
      "execution_count": null,
      "outputs": []
    }
  ]
}