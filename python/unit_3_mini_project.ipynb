{
  "nbformat": 4,
  "nbformat_minor": 0,
  "metadata": {
    "colab": {
      "name": "unit 3 mini project.ipynb",
      "provenance": [],
      "collapsed_sections": []
    },
    "kernelspec": {
      "name": "python3",
      "display_name": "Python 3"
    }
  },
  "cells": [
    {
      "cell_type": "markdown",
      "metadata": {
        "id": "sLnzSfWMhtgX"
      },
      "source": [
        "**I loaded all of the required packages and entered the dataframe link:**"
      ]
    },
    {
      "cell_type": "code",
      "metadata": {
        "id": "jfWu1msClKMr"
      },
      "source": [
        "import numpy as np\r\n",
        "import pandas as pd\r\n",
        "import matplotlib.pyplot as plot \r\n",
        "%matplotlib inline\r\n",
        "import seaborn as sns\r\n",
        "%matplotlib inline"
      ],
      "execution_count": null,
      "outputs": []
    },
    {
      "cell_type": "code",
      "metadata": {
        "colab": {
          "base_uri": "https://localhost:8080/",
          "height": 419
        },
        "id": "Gjni-EsMlLMK",
        "outputId": "58e312a7-b2d3-47cc-9599-a85914785c88"
      },
      "source": [
        "df = pd.read_csv ('https://raw.githubusercontent.com/nytimes/covid-19-data/master/us-counties.csv')\r\n",
        "df"
      ],
      "execution_count": null,
      "outputs": [
        {
          "output_type": "execute_result",
          "data": {
            "text/html": [
              "<div>\n",
              "<style scoped>\n",
              "    .dataframe tbody tr th:only-of-type {\n",
              "        vertical-align: middle;\n",
              "    }\n",
              "\n",
              "    .dataframe tbody tr th {\n",
              "        vertical-align: top;\n",
              "    }\n",
              "\n",
              "    .dataframe thead th {\n",
              "        text-align: right;\n",
              "    }\n",
              "</style>\n",
              "<table border=\"1\" class=\"dataframe\">\n",
              "  <thead>\n",
              "    <tr style=\"text-align: right;\">\n",
              "      <th></th>\n",
              "      <th>date</th>\n",
              "      <th>county</th>\n",
              "      <th>state</th>\n",
              "      <th>fips</th>\n",
              "      <th>cases</th>\n",
              "      <th>deaths</th>\n",
              "    </tr>\n",
              "  </thead>\n",
              "  <tbody>\n",
              "    <tr>\n",
              "      <th>0</th>\n",
              "      <td>2020-01-21</td>\n",
              "      <td>Snohomish</td>\n",
              "      <td>Washington</td>\n",
              "      <td>53061.0</td>\n",
              "      <td>1</td>\n",
              "      <td>0.0</td>\n",
              "    </tr>\n",
              "    <tr>\n",
              "      <th>1</th>\n",
              "      <td>2020-01-22</td>\n",
              "      <td>Snohomish</td>\n",
              "      <td>Washington</td>\n",
              "      <td>53061.0</td>\n",
              "      <td>1</td>\n",
              "      <td>0.0</td>\n",
              "    </tr>\n",
              "    <tr>\n",
              "      <th>2</th>\n",
              "      <td>2020-01-23</td>\n",
              "      <td>Snohomish</td>\n",
              "      <td>Washington</td>\n",
              "      <td>53061.0</td>\n",
              "      <td>1</td>\n",
              "      <td>0.0</td>\n",
              "    </tr>\n",
              "    <tr>\n",
              "      <th>3</th>\n",
              "      <td>2020-01-24</td>\n",
              "      <td>Cook</td>\n",
              "      <td>Illinois</td>\n",
              "      <td>17031.0</td>\n",
              "      <td>1</td>\n",
              "      <td>0.0</td>\n",
              "    </tr>\n",
              "    <tr>\n",
              "      <th>4</th>\n",
              "      <td>2020-01-24</td>\n",
              "      <td>Snohomish</td>\n",
              "      <td>Washington</td>\n",
              "      <td>53061.0</td>\n",
              "      <td>1</td>\n",
              "      <td>0.0</td>\n",
              "    </tr>\n",
              "    <tr>\n",
              "      <th>...</th>\n",
              "      <td>...</td>\n",
              "      <td>...</td>\n",
              "      <td>...</td>\n",
              "      <td>...</td>\n",
              "      <td>...</td>\n",
              "      <td>...</td>\n",
              "    </tr>\n",
              "    <tr>\n",
              "      <th>930248</th>\n",
              "      <td>2021-01-14</td>\n",
              "      <td>Sweetwater</td>\n",
              "      <td>Wyoming</td>\n",
              "      <td>56037.0</td>\n",
              "      <td>3250</td>\n",
              "      <td>26.0</td>\n",
              "    </tr>\n",
              "    <tr>\n",
              "      <th>930249</th>\n",
              "      <td>2021-01-14</td>\n",
              "      <td>Teton</td>\n",
              "      <td>Wyoming</td>\n",
              "      <td>56039.0</td>\n",
              "      <td>2579</td>\n",
              "      <td>4.0</td>\n",
              "    </tr>\n",
              "    <tr>\n",
              "      <th>930250</th>\n",
              "      <td>2021-01-14</td>\n",
              "      <td>Uinta</td>\n",
              "      <td>Wyoming</td>\n",
              "      <td>56041.0</td>\n",
              "      <td>1794</td>\n",
              "      <td>9.0</td>\n",
              "    </tr>\n",
              "    <tr>\n",
              "      <th>930251</th>\n",
              "      <td>2021-01-14</td>\n",
              "      <td>Washakie</td>\n",
              "      <td>Wyoming</td>\n",
              "      <td>56043.0</td>\n",
              "      <td>836</td>\n",
              "      <td>23.0</td>\n",
              "    </tr>\n",
              "    <tr>\n",
              "      <th>930252</th>\n",
              "      <td>2021-01-14</td>\n",
              "      <td>Weston</td>\n",
              "      <td>Wyoming</td>\n",
              "      <td>56045.0</td>\n",
              "      <td>602</td>\n",
              "      <td>4.0</td>\n",
              "    </tr>\n",
              "  </tbody>\n",
              "</table>\n",
              "<p>930253 rows × 6 columns</p>\n",
              "</div>"
            ],
            "text/plain": [
              "              date      county       state     fips  cases  deaths\n",
              "0       2020-01-21   Snohomish  Washington  53061.0      1     0.0\n",
              "1       2020-01-22   Snohomish  Washington  53061.0      1     0.0\n",
              "2       2020-01-23   Snohomish  Washington  53061.0      1     0.0\n",
              "3       2020-01-24        Cook    Illinois  17031.0      1     0.0\n",
              "4       2020-01-24   Snohomish  Washington  53061.0      1     0.0\n",
              "...            ...         ...         ...      ...    ...     ...\n",
              "930248  2021-01-14  Sweetwater     Wyoming  56037.0   3250    26.0\n",
              "930249  2021-01-14       Teton     Wyoming  56039.0   2579     4.0\n",
              "930250  2021-01-14       Uinta     Wyoming  56041.0   1794     9.0\n",
              "930251  2021-01-14    Washakie     Wyoming  56043.0    836    23.0\n",
              "930252  2021-01-14      Weston     Wyoming  56045.0    602     4.0\n",
              "\n",
              "[930253 rows x 6 columns]"
            ]
          },
          "metadata": {
            "tags": []
          },
          "execution_count": 165
        }
      ]
    },
    {
      "cell_type": "markdown",
      "metadata": {
        "id": "41xVwYF9lOs4"
      },
      "source": [
        "**I filtered by a specific county, but there are several counties in the USA with the keyword 'Cook':**"
      ]
    },
    {
      "cell_type": "code",
      "metadata": {
        "colab": {
          "base_uri": "https://localhost:8080/",
          "height": 419
        },
        "id": "Q0klaUD2lMX2",
        "outputId": "d23c462b-0c61-4b9b-e003-d68db662bfd4"
      },
      "source": [
        "df[df['county'].str.contains('Cook')]"
      ],
      "execution_count": null,
      "outputs": [
        {
          "output_type": "execute_result",
          "data": {
            "text/html": [
              "<div>\n",
              "<style scoped>\n",
              "    .dataframe tbody tr th:only-of-type {\n",
              "        vertical-align: middle;\n",
              "    }\n",
              "\n",
              "    .dataframe tbody tr th {\n",
              "        vertical-align: top;\n",
              "    }\n",
              "\n",
              "    .dataframe thead th {\n",
              "        text-align: right;\n",
              "    }\n",
              "</style>\n",
              "<table border=\"1\" class=\"dataframe\">\n",
              "  <thead>\n",
              "    <tr style=\"text-align: right;\">\n",
              "      <th></th>\n",
              "      <th>date</th>\n",
              "      <th>county</th>\n",
              "      <th>state</th>\n",
              "      <th>fips</th>\n",
              "      <th>cases</th>\n",
              "      <th>deaths</th>\n",
              "    </tr>\n",
              "  </thead>\n",
              "  <tbody>\n",
              "    <tr>\n",
              "      <th>3</th>\n",
              "      <td>2020-01-24</td>\n",
              "      <td>Cook</td>\n",
              "      <td>Illinois</td>\n",
              "      <td>17031.0</td>\n",
              "      <td>1</td>\n",
              "      <td>0.0</td>\n",
              "    </tr>\n",
              "    <tr>\n",
              "      <th>6</th>\n",
              "      <td>2020-01-25</td>\n",
              "      <td>Cook</td>\n",
              "      <td>Illinois</td>\n",
              "      <td>17031.0</td>\n",
              "      <td>1</td>\n",
              "      <td>0.0</td>\n",
              "    </tr>\n",
              "    <tr>\n",
              "      <th>11</th>\n",
              "      <td>2020-01-26</td>\n",
              "      <td>Cook</td>\n",
              "      <td>Illinois</td>\n",
              "      <td>17031.0</td>\n",
              "      <td>1</td>\n",
              "      <td>0.0</td>\n",
              "    </tr>\n",
              "    <tr>\n",
              "      <th>16</th>\n",
              "      <td>2020-01-27</td>\n",
              "      <td>Cook</td>\n",
              "      <td>Illinois</td>\n",
              "      <td>17031.0</td>\n",
              "      <td>1</td>\n",
              "      <td>0.0</td>\n",
              "    </tr>\n",
              "    <tr>\n",
              "      <th>21</th>\n",
              "      <td>2020-01-28</td>\n",
              "      <td>Cook</td>\n",
              "      <td>Illinois</td>\n",
              "      <td>17031.0</td>\n",
              "      <td>1</td>\n",
              "      <td>0.0</td>\n",
              "    </tr>\n",
              "    <tr>\n",
              "      <th>...</th>\n",
              "      <td>...</td>\n",
              "      <td>...</td>\n",
              "      <td>...</td>\n",
              "      <td>...</td>\n",
              "      <td>...</td>\n",
              "      <td>...</td>\n",
              "    </tr>\n",
              "    <tr>\n",
              "      <th>927434</th>\n",
              "      <td>2021-01-14</td>\n",
              "      <td>Cook</td>\n",
              "      <td>Georgia</td>\n",
              "      <td>13075.0</td>\n",
              "      <td>1448</td>\n",
              "      <td>31.0</td>\n",
              "    </tr>\n",
              "    <tr>\n",
              "      <th>927623</th>\n",
              "      <td>2021-01-14</td>\n",
              "      <td>Cook</td>\n",
              "      <td>Illinois</td>\n",
              "      <td>17031.0</td>\n",
              "      <td>426658</td>\n",
              "      <td>8889.0</td>\n",
              "    </tr>\n",
              "    <tr>\n",
              "      <th>928349</th>\n",
              "      <td>2021-01-14</td>\n",
              "      <td>Cook</td>\n",
              "      <td>Minnesota</td>\n",
              "      <td>27031.0</td>\n",
              "      <td>113</td>\n",
              "      <td>0.0</td>\n",
              "    </tr>\n",
              "    <tr>\n",
              "      <th>929510</th>\n",
              "      <td>2021-01-14</td>\n",
              "      <td>McCook</td>\n",
              "      <td>South Dakota</td>\n",
              "      <td>46087.0</td>\n",
              "      <td>709</td>\n",
              "      <td>22.0</td>\n",
              "    </tr>\n",
              "    <tr>\n",
              "      <th>929677</th>\n",
              "      <td>2021-01-14</td>\n",
              "      <td>Cooke</td>\n",
              "      <td>Texas</td>\n",
              "      <td>48097.0</td>\n",
              "      <td>2787</td>\n",
              "      <td>42.0</td>\n",
              "    </tr>\n",
              "  </tbody>\n",
              "</table>\n",
              "<p>1452 rows × 6 columns</p>\n",
              "</div>"
            ],
            "text/plain": [
              "              date  county         state     fips   cases  deaths\n",
              "3       2020-01-24    Cook      Illinois  17031.0       1     0.0\n",
              "6       2020-01-25    Cook      Illinois  17031.0       1     0.0\n",
              "11      2020-01-26    Cook      Illinois  17031.0       1     0.0\n",
              "16      2020-01-27    Cook      Illinois  17031.0       1     0.0\n",
              "21      2020-01-28    Cook      Illinois  17031.0       1     0.0\n",
              "...            ...     ...           ...      ...     ...     ...\n",
              "927434  2021-01-14    Cook       Georgia  13075.0    1448    31.0\n",
              "927623  2021-01-14    Cook      Illinois  17031.0  426658  8889.0\n",
              "928349  2021-01-14    Cook     Minnesota  27031.0     113     0.0\n",
              "929510  2021-01-14  McCook  South Dakota  46087.0     709    22.0\n",
              "929677  2021-01-14   Cooke         Texas  48097.0    2787    42.0\n",
              "\n",
              "[1452 rows x 6 columns]"
            ]
          },
          "metadata": {
            "tags": []
          },
          "execution_count": 166
        }
      ]
    },
    {
      "cell_type": "markdown",
      "metadata": {
        "id": "YdEJ3mfTlkwY"
      },
      "source": [
        "**I filtered by both county and state to specify for Cook County, Illinois:**"
      ]
    },
    {
      "cell_type": "code",
      "metadata": {
        "colab": {
          "base_uri": "https://localhost:8080/",
          "height": 419
        },
        "id": "fACLoO-AlPlj",
        "outputId": "c307d241-2956-4623-821c-76ce4ae6a7db"
      },
      "source": [
        "df[(df['county']=='Cook') & (df['state']=='Illinois')]\r\n",
        "df_1=df[(df['county']=='Cook') & (df['state']=='Illinois')]\r\n",
        "df_1"
      ],
      "execution_count": null,
      "outputs": [
        {
          "output_type": "execute_result",
          "data": {
            "text/html": [
              "<div>\n",
              "<style scoped>\n",
              "    .dataframe tbody tr th:only-of-type {\n",
              "        vertical-align: middle;\n",
              "    }\n",
              "\n",
              "    .dataframe tbody tr th {\n",
              "        vertical-align: top;\n",
              "    }\n",
              "\n",
              "    .dataframe thead th {\n",
              "        text-align: right;\n",
              "    }\n",
              "</style>\n",
              "<table border=\"1\" class=\"dataframe\">\n",
              "  <thead>\n",
              "    <tr style=\"text-align: right;\">\n",
              "      <th></th>\n",
              "      <th>date</th>\n",
              "      <th>county</th>\n",
              "      <th>state</th>\n",
              "      <th>fips</th>\n",
              "      <th>cases</th>\n",
              "      <th>deaths</th>\n",
              "    </tr>\n",
              "  </thead>\n",
              "  <tbody>\n",
              "    <tr>\n",
              "      <th>3</th>\n",
              "      <td>2020-01-24</td>\n",
              "      <td>Cook</td>\n",
              "      <td>Illinois</td>\n",
              "      <td>17031.0</td>\n",
              "      <td>1</td>\n",
              "      <td>0.0</td>\n",
              "    </tr>\n",
              "    <tr>\n",
              "      <th>6</th>\n",
              "      <td>2020-01-25</td>\n",
              "      <td>Cook</td>\n",
              "      <td>Illinois</td>\n",
              "      <td>17031.0</td>\n",
              "      <td>1</td>\n",
              "      <td>0.0</td>\n",
              "    </tr>\n",
              "    <tr>\n",
              "      <th>11</th>\n",
              "      <td>2020-01-26</td>\n",
              "      <td>Cook</td>\n",
              "      <td>Illinois</td>\n",
              "      <td>17031.0</td>\n",
              "      <td>1</td>\n",
              "      <td>0.0</td>\n",
              "    </tr>\n",
              "    <tr>\n",
              "      <th>16</th>\n",
              "      <td>2020-01-27</td>\n",
              "      <td>Cook</td>\n",
              "      <td>Illinois</td>\n",
              "      <td>17031.0</td>\n",
              "      <td>1</td>\n",
              "      <td>0.0</td>\n",
              "    </tr>\n",
              "    <tr>\n",
              "      <th>21</th>\n",
              "      <td>2020-01-28</td>\n",
              "      <td>Cook</td>\n",
              "      <td>Illinois</td>\n",
              "      <td>17031.0</td>\n",
              "      <td>1</td>\n",
              "      <td>0.0</td>\n",
              "    </tr>\n",
              "    <tr>\n",
              "      <th>...</th>\n",
              "      <td>...</td>\n",
              "      <td>...</td>\n",
              "      <td>...</td>\n",
              "      <td>...</td>\n",
              "      <td>...</td>\n",
              "      <td>...</td>\n",
              "    </tr>\n",
              "    <tr>\n",
              "      <th>914642</th>\n",
              "      <td>2021-01-10</td>\n",
              "      <td>Cook</td>\n",
              "      <td>Illinois</td>\n",
              "      <td>17031.0</td>\n",
              "      <td>417790</td>\n",
              "      <td>8760.0</td>\n",
              "    </tr>\n",
              "    <tr>\n",
              "      <th>917887</th>\n",
              "      <td>2021-01-11</td>\n",
              "      <td>Cook</td>\n",
              "      <td>Illinois</td>\n",
              "      <td>17031.0</td>\n",
              "      <td>419471</td>\n",
              "      <td>8811.0</td>\n",
              "    </tr>\n",
              "    <tr>\n",
              "      <th>921132</th>\n",
              "      <td>2021-01-12</td>\n",
              "      <td>Cook</td>\n",
              "      <td>Illinois</td>\n",
              "      <td>17031.0</td>\n",
              "      <td>422159</td>\n",
              "      <td>8841.0</td>\n",
              "    </tr>\n",
              "    <tr>\n",
              "      <th>924377</th>\n",
              "      <td>2021-01-13</td>\n",
              "      <td>Cook</td>\n",
              "      <td>Illinois</td>\n",
              "      <td>17031.0</td>\n",
              "      <td>424217</td>\n",
              "      <td>8870.0</td>\n",
              "    </tr>\n",
              "    <tr>\n",
              "      <th>927623</th>\n",
              "      <td>2021-01-14</td>\n",
              "      <td>Cook</td>\n",
              "      <td>Illinois</td>\n",
              "      <td>17031.0</td>\n",
              "      <td>426658</td>\n",
              "      <td>8889.0</td>\n",
              "    </tr>\n",
              "  </tbody>\n",
              "</table>\n",
              "<p>357 rows × 6 columns</p>\n",
              "</div>"
            ],
            "text/plain": [
              "              date county     state     fips   cases  deaths\n",
              "3       2020-01-24   Cook  Illinois  17031.0       1     0.0\n",
              "6       2020-01-25   Cook  Illinois  17031.0       1     0.0\n",
              "11      2020-01-26   Cook  Illinois  17031.0       1     0.0\n",
              "16      2020-01-27   Cook  Illinois  17031.0       1     0.0\n",
              "21      2020-01-28   Cook  Illinois  17031.0       1     0.0\n",
              "...            ...    ...       ...      ...     ...     ...\n",
              "914642  2021-01-10   Cook  Illinois  17031.0  417790  8760.0\n",
              "917887  2021-01-11   Cook  Illinois  17031.0  419471  8811.0\n",
              "921132  2021-01-12   Cook  Illinois  17031.0  422159  8841.0\n",
              "924377  2021-01-13   Cook  Illinois  17031.0  424217  8870.0\n",
              "927623  2021-01-14   Cook  Illinois  17031.0  426658  8889.0\n",
              "\n",
              "[357 rows x 6 columns]"
            ]
          },
          "metadata": {
            "tags": []
          },
          "execution_count": 167
        }
      ]
    },
    {
      "cell_type": "markdown",
      "metadata": {
        "id": "xac3AgJk_CDE"
      },
      "source": [
        "**I filtered again to find the tail end of the data set so that only the final 30 entries (days) would appear, and I assigned this to a new dataframe set:**"
      ]
    },
    {
      "cell_type": "code",
      "metadata": {
        "colab": {
          "base_uri": "https://localhost:8080/",
          "height": 979
        },
        "id": "iadGCEvv8tNK",
        "outputId": "78a3408d-56cf-4ff8-e2ce-ee4c60691eaf"
      },
      "source": [
        "df_1\r\n",
        "df_1.tail(30)\r\n",
        "df_2=df_1.tail(30)\r\n",
        "df_2"
      ],
      "execution_count": null,
      "outputs": [
        {
          "output_type": "execute_result",
          "data": {
            "text/html": [
              "<div>\n",
              "<style scoped>\n",
              "    .dataframe tbody tr th:only-of-type {\n",
              "        vertical-align: middle;\n",
              "    }\n",
              "\n",
              "    .dataframe tbody tr th {\n",
              "        vertical-align: top;\n",
              "    }\n",
              "\n",
              "    .dataframe thead th {\n",
              "        text-align: right;\n",
              "    }\n",
              "</style>\n",
              "<table border=\"1\" class=\"dataframe\">\n",
              "  <thead>\n",
              "    <tr style=\"text-align: right;\">\n",
              "      <th></th>\n",
              "      <th>date</th>\n",
              "      <th>county</th>\n",
              "      <th>state</th>\n",
              "      <th>fips</th>\n",
              "      <th>cases</th>\n",
              "      <th>deaths</th>\n",
              "    </tr>\n",
              "  </thead>\n",
              "  <tbody>\n",
              "    <tr>\n",
              "      <th>833510</th>\n",
              "      <td>2020-12-16</td>\n",
              "      <td>Cook</td>\n",
              "      <td>Illinois</td>\n",
              "      <td>17031.0</td>\n",
              "      <td>360117</td>\n",
              "      <td>7505.0</td>\n",
              "    </tr>\n",
              "    <tr>\n",
              "      <th>836756</th>\n",
              "      <td>2020-12-17</td>\n",
              "      <td>Cook</td>\n",
              "      <td>Illinois</td>\n",
              "      <td>17031.0</td>\n",
              "      <td>363261</td>\n",
              "      <td>7574.0</td>\n",
              "    </tr>\n",
              "    <tr>\n",
              "      <th>840001</th>\n",
              "      <td>2020-12-18</td>\n",
              "      <td>Cook</td>\n",
              "      <td>Illinois</td>\n",
              "      <td>17031.0</td>\n",
              "      <td>366020</td>\n",
              "      <td>7654.0</td>\n",
              "    </tr>\n",
              "    <tr>\n",
              "      <th>843246</th>\n",
              "      <td>2020-12-19</td>\n",
              "      <td>Cook</td>\n",
              "      <td>Illinois</td>\n",
              "      <td>17031.0</td>\n",
              "      <td>368824</td>\n",
              "      <td>7681.0</td>\n",
              "    </tr>\n",
              "    <tr>\n",
              "      <th>846492</th>\n",
              "      <td>2020-12-20</td>\n",
              "      <td>Cook</td>\n",
              "      <td>Illinois</td>\n",
              "      <td>17031.0</td>\n",
              "      <td>371088</td>\n",
              "      <td>7724.0</td>\n",
              "    </tr>\n",
              "    <tr>\n",
              "      <th>849737</th>\n",
              "      <td>2020-12-21</td>\n",
              "      <td>Cook</td>\n",
              "      <td>Illinois</td>\n",
              "      <td>17031.0</td>\n",
              "      <td>373008</td>\n",
              "      <td>7802.0</td>\n",
              "    </tr>\n",
              "    <tr>\n",
              "      <th>852982</th>\n",
              "      <td>2020-12-22</td>\n",
              "      <td>Cook</td>\n",
              "      <td>Illinois</td>\n",
              "      <td>17031.0</td>\n",
              "      <td>375360</td>\n",
              "      <td>7853.0</td>\n",
              "    </tr>\n",
              "    <tr>\n",
              "      <th>856227</th>\n",
              "      <td>2020-12-23</td>\n",
              "      <td>Cook</td>\n",
              "      <td>Illinois</td>\n",
              "      <td>17031.0</td>\n",
              "      <td>377709</td>\n",
              "      <td>7908.0</td>\n",
              "    </tr>\n",
              "    <tr>\n",
              "      <th>859472</th>\n",
              "      <td>2020-12-24</td>\n",
              "      <td>Cook</td>\n",
              "      <td>Illinois</td>\n",
              "      <td>17031.0</td>\n",
              "      <td>380096</td>\n",
              "      <td>7954.0</td>\n",
              "    </tr>\n",
              "    <tr>\n",
              "      <th>862717</th>\n",
              "      <td>2020-12-25</td>\n",
              "      <td>Cook</td>\n",
              "      <td>Illinois</td>\n",
              "      <td>17031.0</td>\n",
              "      <td>382213</td>\n",
              "      <td>8031.0</td>\n",
              "    </tr>\n",
              "    <tr>\n",
              "      <th>865962</th>\n",
              "      <td>2020-12-26</td>\n",
              "      <td>Cook</td>\n",
              "      <td>Illinois</td>\n",
              "      <td>17031.0</td>\n",
              "      <td>383480</td>\n",
              "      <td>8060.0</td>\n",
              "    </tr>\n",
              "    <tr>\n",
              "      <th>869207</th>\n",
              "      <td>2020-12-27</td>\n",
              "      <td>Cook</td>\n",
              "      <td>Illinois</td>\n",
              "      <td>17031.0</td>\n",
              "      <td>384931</td>\n",
              "      <td>8114.0</td>\n",
              "    </tr>\n",
              "    <tr>\n",
              "      <th>872452</th>\n",
              "      <td>2020-12-28</td>\n",
              "      <td>Cook</td>\n",
              "      <td>Illinois</td>\n",
              "      <td>17031.0</td>\n",
              "      <td>386469</td>\n",
              "      <td>8137.0</td>\n",
              "    </tr>\n",
              "    <tr>\n",
              "      <th>875697</th>\n",
              "      <td>2020-12-29</td>\n",
              "      <td>Cook</td>\n",
              "      <td>Illinois</td>\n",
              "      <td>17031.0</td>\n",
              "      <td>388386</td>\n",
              "      <td>8169.0</td>\n",
              "    </tr>\n",
              "    <tr>\n",
              "      <th>878942</th>\n",
              "      <td>2020-12-30</td>\n",
              "      <td>Cook</td>\n",
              "      <td>Illinois</td>\n",
              "      <td>17031.0</td>\n",
              "      <td>390927</td>\n",
              "      <td>8246.0</td>\n",
              "    </tr>\n",
              "    <tr>\n",
              "      <th>882187</th>\n",
              "      <td>2020-12-31</td>\n",
              "      <td>Cook</td>\n",
              "      <td>Illinois</td>\n",
              "      <td>17031.0</td>\n",
              "      <td>393652</td>\n",
              "      <td>8285.0</td>\n",
              "    </tr>\n",
              "    <tr>\n",
              "      <th>885432</th>\n",
              "      <td>2021-01-01</td>\n",
              "      <td>Cook</td>\n",
              "      <td>Illinois</td>\n",
              "      <td>17031.0</td>\n",
              "      <td>393652</td>\n",
              "      <td>8285.0</td>\n",
              "    </tr>\n",
              "    <tr>\n",
              "      <th>888677</th>\n",
              "      <td>2021-01-02</td>\n",
              "      <td>Cook</td>\n",
              "      <td>Illinois</td>\n",
              "      <td>17031.0</td>\n",
              "      <td>397942</td>\n",
              "      <td>8359.0</td>\n",
              "    </tr>\n",
              "    <tr>\n",
              "      <th>891924</th>\n",
              "      <td>2021-01-03</td>\n",
              "      <td>Cook</td>\n",
              "      <td>Illinois</td>\n",
              "      <td>17031.0</td>\n",
              "      <td>399609</td>\n",
              "      <td>8436.0</td>\n",
              "    </tr>\n",
              "    <tr>\n",
              "      <th>895171</th>\n",
              "      <td>2021-01-04</td>\n",
              "      <td>Cook</td>\n",
              "      <td>Illinois</td>\n",
              "      <td>17031.0</td>\n",
              "      <td>401457</td>\n",
              "      <td>8483.0</td>\n",
              "    </tr>\n",
              "    <tr>\n",
              "      <th>898416</th>\n",
              "      <td>2021-01-05</td>\n",
              "      <td>Cook</td>\n",
              "      <td>Illinois</td>\n",
              "      <td>17031.0</td>\n",
              "      <td>403987</td>\n",
              "      <td>8523.0</td>\n",
              "    </tr>\n",
              "    <tr>\n",
              "      <th>901661</th>\n",
              "      <td>2021-01-06</td>\n",
              "      <td>Cook</td>\n",
              "      <td>Illinois</td>\n",
              "      <td>17031.0</td>\n",
              "      <td>406674</td>\n",
              "      <td>8574.0</td>\n",
              "    </tr>\n",
              "    <tr>\n",
              "      <th>904906</th>\n",
              "      <td>2021-01-07</td>\n",
              "      <td>Cook</td>\n",
              "      <td>Illinois</td>\n",
              "      <td>17031.0</td>\n",
              "      <td>410005</td>\n",
              "      <td>8630.0</td>\n",
              "    </tr>\n",
              "    <tr>\n",
              "      <th>908152</th>\n",
              "      <td>2021-01-08</td>\n",
              "      <td>Cook</td>\n",
              "      <td>Illinois</td>\n",
              "      <td>17031.0</td>\n",
              "      <td>413504</td>\n",
              "      <td>8684.0</td>\n",
              "    </tr>\n",
              "    <tr>\n",
              "      <th>911397</th>\n",
              "      <td>2021-01-09</td>\n",
              "      <td>Cook</td>\n",
              "      <td>Illinois</td>\n",
              "      <td>17031.0</td>\n",
              "      <td>415991</td>\n",
              "      <td>8701.0</td>\n",
              "    </tr>\n",
              "    <tr>\n",
              "      <th>914642</th>\n",
              "      <td>2021-01-10</td>\n",
              "      <td>Cook</td>\n",
              "      <td>Illinois</td>\n",
              "      <td>17031.0</td>\n",
              "      <td>417790</td>\n",
              "      <td>8760.0</td>\n",
              "    </tr>\n",
              "    <tr>\n",
              "      <th>917887</th>\n",
              "      <td>2021-01-11</td>\n",
              "      <td>Cook</td>\n",
              "      <td>Illinois</td>\n",
              "      <td>17031.0</td>\n",
              "      <td>419471</td>\n",
              "      <td>8811.0</td>\n",
              "    </tr>\n",
              "    <tr>\n",
              "      <th>921132</th>\n",
              "      <td>2021-01-12</td>\n",
              "      <td>Cook</td>\n",
              "      <td>Illinois</td>\n",
              "      <td>17031.0</td>\n",
              "      <td>422159</td>\n",
              "      <td>8841.0</td>\n",
              "    </tr>\n",
              "    <tr>\n",
              "      <th>924377</th>\n",
              "      <td>2021-01-13</td>\n",
              "      <td>Cook</td>\n",
              "      <td>Illinois</td>\n",
              "      <td>17031.0</td>\n",
              "      <td>424217</td>\n",
              "      <td>8870.0</td>\n",
              "    </tr>\n",
              "    <tr>\n",
              "      <th>927623</th>\n",
              "      <td>2021-01-14</td>\n",
              "      <td>Cook</td>\n",
              "      <td>Illinois</td>\n",
              "      <td>17031.0</td>\n",
              "      <td>426658</td>\n",
              "      <td>8889.0</td>\n",
              "    </tr>\n",
              "  </tbody>\n",
              "</table>\n",
              "</div>"
            ],
            "text/plain": [
              "              date county     state     fips   cases  deaths\n",
              "833510  2020-12-16   Cook  Illinois  17031.0  360117  7505.0\n",
              "836756  2020-12-17   Cook  Illinois  17031.0  363261  7574.0\n",
              "840001  2020-12-18   Cook  Illinois  17031.0  366020  7654.0\n",
              "843246  2020-12-19   Cook  Illinois  17031.0  368824  7681.0\n",
              "846492  2020-12-20   Cook  Illinois  17031.0  371088  7724.0\n",
              "849737  2020-12-21   Cook  Illinois  17031.0  373008  7802.0\n",
              "852982  2020-12-22   Cook  Illinois  17031.0  375360  7853.0\n",
              "856227  2020-12-23   Cook  Illinois  17031.0  377709  7908.0\n",
              "859472  2020-12-24   Cook  Illinois  17031.0  380096  7954.0\n",
              "862717  2020-12-25   Cook  Illinois  17031.0  382213  8031.0\n",
              "865962  2020-12-26   Cook  Illinois  17031.0  383480  8060.0\n",
              "869207  2020-12-27   Cook  Illinois  17031.0  384931  8114.0\n",
              "872452  2020-12-28   Cook  Illinois  17031.0  386469  8137.0\n",
              "875697  2020-12-29   Cook  Illinois  17031.0  388386  8169.0\n",
              "878942  2020-12-30   Cook  Illinois  17031.0  390927  8246.0\n",
              "882187  2020-12-31   Cook  Illinois  17031.0  393652  8285.0\n",
              "885432  2021-01-01   Cook  Illinois  17031.0  393652  8285.0\n",
              "888677  2021-01-02   Cook  Illinois  17031.0  397942  8359.0\n",
              "891924  2021-01-03   Cook  Illinois  17031.0  399609  8436.0\n",
              "895171  2021-01-04   Cook  Illinois  17031.0  401457  8483.0\n",
              "898416  2021-01-05   Cook  Illinois  17031.0  403987  8523.0\n",
              "901661  2021-01-06   Cook  Illinois  17031.0  406674  8574.0\n",
              "904906  2021-01-07   Cook  Illinois  17031.0  410005  8630.0\n",
              "908152  2021-01-08   Cook  Illinois  17031.0  413504  8684.0\n",
              "911397  2021-01-09   Cook  Illinois  17031.0  415991  8701.0\n",
              "914642  2021-01-10   Cook  Illinois  17031.0  417790  8760.0\n",
              "917887  2021-01-11   Cook  Illinois  17031.0  419471  8811.0\n",
              "921132  2021-01-12   Cook  Illinois  17031.0  422159  8841.0\n",
              "924377  2021-01-13   Cook  Illinois  17031.0  424217  8870.0\n",
              "927623  2021-01-14   Cook  Illinois  17031.0  426658  8889.0"
            ]
          },
          "metadata": {
            "tags": []
          },
          "execution_count": 168
        }
      ]
    },
    {
      "cell_type": "markdown",
      "metadata": {
        "id": "mmXdgvDf50Mt"
      },
      "source": [
        "**I created a line graph and a histograph to view the amount of deaths over the course of the 30 days in the df_2 dataset for Cook County, Illinois. I also changed the size of the graph to chart the data more legibly:**"
      ]
    },
    {
      "cell_type": "code",
      "metadata": {
        "colab": {
          "base_uri": "https://localhost:8080/",
          "height": 367
        },
        "id": "Dqgby7EsmQ2u",
        "outputId": "0480bcdb-a845-45c1-b5ac-bcb94b6de1a2"
      },
      "source": [
        "df_2.plot(kind='line', x='date', y='deaths', figsize=(15,5), title='Cook County, IL: Dates and Deaths')"
      ],
      "execution_count": null,
      "outputs": [
        {
          "output_type": "execute_result",
          "data": {
            "text/plain": [
              "<matplotlib.axes._subplots.AxesSubplot at 0x7fa7206f7be0>"
            ]
          },
          "metadata": {
            "tags": []
          },
          "execution_count": 169
        },
        {
          "output_type": "display_data",
          "data": {
            "image/png": "[encoded data removed]",
            "text/plain": [
              "<Figure size 1080x360 with 1 Axes>"
            ]
          },
          "metadata": {
            "tags": [],
            "needs_background": "light"
          }
        }
      ]
    },
    {
      "cell_type": "code",
      "metadata": {
        "colab": {
          "base_uri": "https://localhost:8080/",
          "height": 516
        },
        "id": "bfpblDbp6bdJ",
        "outputId": "ee3f05b5-e45e-4e1d-dfaa-96826c2f833a"
      },
      "source": [
        "df_2.plot(kind='hist', x='date', y='deaths', figsize=(8,8), title='Cook County, IL: Dates and Deaths')"
      ],
      "execution_count": null,
      "outputs": [
        {
          "output_type": "execute_result",
          "data": {
            "text/plain": [
              "<matplotlib.axes._subplots.AxesSubplot at 0x7fa72094cda0>"
            ]
          },
          "metadata": {
            "tags": []
          },
          "execution_count": 170
        },
        {
          "output_type": "display_data",
          "data": {
            "image/png": "[encoded data removed]",
            "text/plain": [
              "<Figure size 576x576 with 1 Axes>"
            ]
          },
          "metadata": {
            "tags": [],
            "needs_background": "light"
          }
        }
      ]
    },
    {
      "cell_type": "markdown",
      "metadata": {
        "id": "jXcnO9InAevd"
      },
      "source": [
        "**I created a different line graph using the df_2 dataset to show the correlation between deaths and cases in the same 30 day timeframe for Cook County, Illinois:**\r\n",
        "\r\n",
        "\r\n",
        "\r\n",
        "\r\n",
        "\r\n"
      ]
    },
    {
      "cell_type": "code",
      "metadata": {
        "colab": {
          "base_uri": "https://localhost:8080/",
          "height": 367
        },
        "id": "lZ-7zAtYD0T4",
        "outputId": "a81805fa-d204-4d1c-c7c5-ee0fa7b5e42d"
      },
      "source": [
        "df_2.plot(kind='line', x='cases', y='deaths', figsize=(15,5), title='Cook County, IL: Cases and Deaths')"
      ],
      "execution_count": null,
      "outputs": [
        {
          "output_type": "execute_result",
          "data": {
            "text/plain": [
              "<matplotlib.axes._subplots.AxesSubplot at 0x7fa7206f7080>"
            ]
          },
          "metadata": {
            "tags": []
          },
          "execution_count": 171
        },
        {
          "output_type": "display_data",
          "data": {
            "image/png": "[encoded data removed]",
            "text/plain": [
              "<Figure size 1080x360 with 1 Axes>"
            ]
          },
          "metadata": {
            "tags": [],
            "needs_background": "light"
          }
        }
      ]
    },
    {
      "cell_type": "markdown",
      "metadata": {
        "id": "NdrHup7WFfIH"
      },
      "source": [
        "**I created a pairplot diagram using the df_2 dataset:**"
      ]
    },
    {
      "cell_type": "code",
      "metadata": {
        "colab": {
          "base_uri": "https://localhost:8080/",
          "height": 567
        },
        "id": "n2Ullus4AFUN",
        "outputId": "a2903523-8015-4794-e40b-876d81dfc7ab"
      },
      "source": [
        "sns.pairplot(df_2)"
      ],
      "execution_count": null,
      "outputs": [
        {
          "output_type": "execute_result",
          "data": {
            "text/plain": [
              "<seaborn.axisgrid.PairGrid at 0x7fa720d42860>"
            ]
          },
          "metadata": {
            "tags": []
          },
          "execution_count": 172
        },
        {
          "output_type": "display_data",
          "data": {
            "image/png": "[encoded data removed]",
            "text/plain": [
              "<Figure size 540x540 with 12 Axes>"
            ]
          },
          "metadata": {
            "tags": [],
            "needs_background": "light"
          }
        }
      ]
    },
    {
      "cell_type": "markdown",
      "metadata": {
        "id": "cHeWSAz1XEf2"
      },
      "source": [
        "**I fetched data for the data entries for Montgomery County, Pennsylvania in the same 30 day timeframe as the one used in the Cook County, Illinois case to compare the statistics of both counties. I also assigned it the df_4 dataframe value to specify a tail end timeframe:**"
      ]
    },
    {
      "cell_type": "code",
      "metadata": {
        "colab": {
          "base_uri": "https://localhost:8080/",
          "height": 979
        },
        "id": "Hy9S6T9JTu8A",
        "outputId": "ecf0df01-db7a-4c9e-fb54-69e062f63d81"
      },
      "source": [
        "df[(df['county']=='Montgomery') & (df['state']=='Pennsylvania')]\r\n",
        "df_3=df[(df['county']=='Montgomery') & (df['state']=='Pennsylvania')]\r\n",
        "df_3.tail(30)\r\n",
        "df_4=df_3.tail(30)\r\n",
        "df_4"
      ],
      "execution_count": null,
      "outputs": [
        {
          "output_type": "execute_result",
          "data": {
            "text/html": [
              "<div>\n",
              "<style scoped>\n",
              "    .dataframe tbody tr th:only-of-type {\n",
              "        vertical-align: middle;\n",
              "    }\n",
              "\n",
              "    .dataframe tbody tr th {\n",
              "        vertical-align: top;\n",
              "    }\n",
              "\n",
              "    .dataframe thead th {\n",
              "        text-align: right;\n",
              "    }\n",
              "</style>\n",
              "<table border=\"1\" class=\"dataframe\">\n",
              "  <thead>\n",
              "    <tr style=\"text-align: right;\">\n",
              "      <th></th>\n",
              "      <th>date</th>\n",
              "      <th>county</th>\n",
              "      <th>state</th>\n",
              "      <th>fips</th>\n",
              "      <th>cases</th>\n",
              "      <th>deaths</th>\n",
              "    </tr>\n",
              "  </thead>\n",
              "  <tbody>\n",
              "    <tr>\n",
              "      <th>835201</th>\n",
              "      <td>2020-12-16</td>\n",
              "      <td>Montgomery</td>\n",
              "      <td>Pennsylvania</td>\n",
              "      <td>42091.0</td>\n",
              "      <td>29656</td>\n",
              "      <td>1025.0</td>\n",
              "    </tr>\n",
              "    <tr>\n",
              "      <th>838447</th>\n",
              "      <td>2020-12-17</td>\n",
              "      <td>Montgomery</td>\n",
              "      <td>Pennsylvania</td>\n",
              "      <td>42091.0</td>\n",
              "      <td>30172</td>\n",
              "      <td>1036.0</td>\n",
              "    </tr>\n",
              "    <tr>\n",
              "      <th>841692</th>\n",
              "      <td>2020-12-18</td>\n",
              "      <td>Montgomery</td>\n",
              "      <td>Pennsylvania</td>\n",
              "      <td>42091.0</td>\n",
              "      <td>30755</td>\n",
              "      <td>1049.0</td>\n",
              "    </tr>\n",
              "    <tr>\n",
              "      <th>844938</th>\n",
              "      <td>2020-12-19</td>\n",
              "      <td>Montgomery</td>\n",
              "      <td>Pennsylvania</td>\n",
              "      <td>42091.0</td>\n",
              "      <td>31092</td>\n",
              "      <td>1057.0</td>\n",
              "    </tr>\n",
              "    <tr>\n",
              "      <th>848183</th>\n",
              "      <td>2020-12-20</td>\n",
              "      <td>Montgomery</td>\n",
              "      <td>Pennsylvania</td>\n",
              "      <td>42091.0</td>\n",
              "      <td>31421</td>\n",
              "      <td>1062.0</td>\n",
              "    </tr>\n",
              "    <tr>\n",
              "      <th>851428</th>\n",
              "      <td>2020-12-21</td>\n",
              "      <td>Montgomery</td>\n",
              "      <td>Pennsylvania</td>\n",
              "      <td>42091.0</td>\n",
              "      <td>31711</td>\n",
              "      <td>1063.0</td>\n",
              "    </tr>\n",
              "    <tr>\n",
              "      <th>854673</th>\n",
              "      <td>2020-12-22</td>\n",
              "      <td>Montgomery</td>\n",
              "      <td>Pennsylvania</td>\n",
              "      <td>42091.0</td>\n",
              "      <td>32268</td>\n",
              "      <td>1073.0</td>\n",
              "    </tr>\n",
              "    <tr>\n",
              "      <th>857918</th>\n",
              "      <td>2020-12-23</td>\n",
              "      <td>Montgomery</td>\n",
              "      <td>Pennsylvania</td>\n",
              "      <td>42091.0</td>\n",
              "      <td>32738</td>\n",
              "      <td>1082.0</td>\n",
              "    </tr>\n",
              "    <tr>\n",
              "      <th>861163</th>\n",
              "      <td>2020-12-24</td>\n",
              "      <td>Montgomery</td>\n",
              "      <td>Pennsylvania</td>\n",
              "      <td>42091.0</td>\n",
              "      <td>33226</td>\n",
              "      <td>1095.0</td>\n",
              "    </tr>\n",
              "    <tr>\n",
              "      <th>864408</th>\n",
              "      <td>2020-12-25</td>\n",
              "      <td>Montgomery</td>\n",
              "      <td>Pennsylvania</td>\n",
              "      <td>42091.0</td>\n",
              "      <td>33702</td>\n",
              "      <td>1101.0</td>\n",
              "    </tr>\n",
              "    <tr>\n",
              "      <th>867653</th>\n",
              "      <td>2020-12-26</td>\n",
              "      <td>Montgomery</td>\n",
              "      <td>Pennsylvania</td>\n",
              "      <td>42091.0</td>\n",
              "      <td>34146</td>\n",
              "      <td>1102.0</td>\n",
              "    </tr>\n",
              "    <tr>\n",
              "      <th>870898</th>\n",
              "      <td>2020-12-27</td>\n",
              "      <td>Montgomery</td>\n",
              "      <td>Pennsylvania</td>\n",
              "      <td>42091.0</td>\n",
              "      <td>34422</td>\n",
              "      <td>1108.0</td>\n",
              "    </tr>\n",
              "    <tr>\n",
              "      <th>874143</th>\n",
              "      <td>2020-12-28</td>\n",
              "      <td>Montgomery</td>\n",
              "      <td>Pennsylvania</td>\n",
              "      <td>42091.0</td>\n",
              "      <td>34736</td>\n",
              "      <td>1108.0</td>\n",
              "    </tr>\n",
              "    <tr>\n",
              "      <th>877388</th>\n",
              "      <td>2020-12-29</td>\n",
              "      <td>Montgomery</td>\n",
              "      <td>Pennsylvania</td>\n",
              "      <td>42091.0</td>\n",
              "      <td>35086</td>\n",
              "      <td>1124.0</td>\n",
              "    </tr>\n",
              "    <tr>\n",
              "      <th>880633</th>\n",
              "      <td>2020-12-30</td>\n",
              "      <td>Montgomery</td>\n",
              "      <td>Pennsylvania</td>\n",
              "      <td>42091.0</td>\n",
              "      <td>35592</td>\n",
              "      <td>1134.0</td>\n",
              "    </tr>\n",
              "    <tr>\n",
              "      <th>883878</th>\n",
              "      <td>2020-12-31</td>\n",
              "      <td>Montgomery</td>\n",
              "      <td>Pennsylvania</td>\n",
              "      <td>42091.0</td>\n",
              "      <td>36131</td>\n",
              "      <td>1147.0</td>\n",
              "    </tr>\n",
              "    <tr>\n",
              "      <th>887123</th>\n",
              "      <td>2021-01-01</td>\n",
              "      <td>Montgomery</td>\n",
              "      <td>Pennsylvania</td>\n",
              "      <td>42091.0</td>\n",
              "      <td>36598</td>\n",
              "      <td>1155.0</td>\n",
              "    </tr>\n",
              "    <tr>\n",
              "      <th>890370</th>\n",
              "      <td>2021-01-02</td>\n",
              "      <td>Montgomery</td>\n",
              "      <td>Pennsylvania</td>\n",
              "      <td>42091.0</td>\n",
              "      <td>37109</td>\n",
              "      <td>1157.0</td>\n",
              "    </tr>\n",
              "    <tr>\n",
              "      <th>893616</th>\n",
              "      <td>2021-01-03</td>\n",
              "      <td>Montgomery</td>\n",
              "      <td>Pennsylvania</td>\n",
              "      <td>42091.0</td>\n",
              "      <td>37427</td>\n",
              "      <td>1161.0</td>\n",
              "    </tr>\n",
              "    <tr>\n",
              "      <th>896862</th>\n",
              "      <td>2021-01-04</td>\n",
              "      <td>Montgomery</td>\n",
              "      <td>Pennsylvania</td>\n",
              "      <td>42091.0</td>\n",
              "      <td>37560</td>\n",
              "      <td>1163.0</td>\n",
              "    </tr>\n",
              "    <tr>\n",
              "      <th>900107</th>\n",
              "      <td>2021-01-05</td>\n",
              "      <td>Montgomery</td>\n",
              "      <td>Pennsylvania</td>\n",
              "      <td>42091.0</td>\n",
              "      <td>38101</td>\n",
              "      <td>1179.0</td>\n",
              "    </tr>\n",
              "    <tr>\n",
              "      <th>903352</th>\n",
              "      <td>2021-01-06</td>\n",
              "      <td>Montgomery</td>\n",
              "      <td>Pennsylvania</td>\n",
              "      <td>42091.0</td>\n",
              "      <td>38549</td>\n",
              "      <td>1190.0</td>\n",
              "    </tr>\n",
              "    <tr>\n",
              "      <th>906598</th>\n",
              "      <td>2021-01-07</td>\n",
              "      <td>Montgomery</td>\n",
              "      <td>Pennsylvania</td>\n",
              "      <td>42091.0</td>\n",
              "      <td>39388</td>\n",
              "      <td>1207.0</td>\n",
              "    </tr>\n",
              "    <tr>\n",
              "      <th>909843</th>\n",
              "      <td>2021-01-08</td>\n",
              "      <td>Montgomery</td>\n",
              "      <td>Pennsylvania</td>\n",
              "      <td>42091.0</td>\n",
              "      <td>39939</td>\n",
              "      <td>1211.0</td>\n",
              "    </tr>\n",
              "    <tr>\n",
              "      <th>913088</th>\n",
              "      <td>2021-01-09</td>\n",
              "      <td>Montgomery</td>\n",
              "      <td>Pennsylvania</td>\n",
              "      <td>42091.0</td>\n",
              "      <td>40432</td>\n",
              "      <td>1221.0</td>\n",
              "    </tr>\n",
              "    <tr>\n",
              "      <th>916333</th>\n",
              "      <td>2021-01-10</td>\n",
              "      <td>Montgomery</td>\n",
              "      <td>Pennsylvania</td>\n",
              "      <td>42091.0</td>\n",
              "      <td>40964</td>\n",
              "      <td>1226.0</td>\n",
              "    </tr>\n",
              "    <tr>\n",
              "      <th>919578</th>\n",
              "      <td>2021-01-11</td>\n",
              "      <td>Montgomery</td>\n",
              "      <td>Pennsylvania</td>\n",
              "      <td>42091.0</td>\n",
              "      <td>41270</td>\n",
              "      <td>1228.0</td>\n",
              "    </tr>\n",
              "    <tr>\n",
              "      <th>922823</th>\n",
              "      <td>2021-01-12</td>\n",
              "      <td>Montgomery</td>\n",
              "      <td>Pennsylvania</td>\n",
              "      <td>42091.0</td>\n",
              "      <td>41651</td>\n",
              "      <td>1239.0</td>\n",
              "    </tr>\n",
              "    <tr>\n",
              "      <th>926069</th>\n",
              "      <td>2021-01-13</td>\n",
              "      <td>Montgomery</td>\n",
              "      <td>Pennsylvania</td>\n",
              "      <td>42091.0</td>\n",
              "      <td>41961</td>\n",
              "      <td>1250.0</td>\n",
              "    </tr>\n",
              "    <tr>\n",
              "      <th>929314</th>\n",
              "      <td>2021-01-14</td>\n",
              "      <td>Montgomery</td>\n",
              "      <td>Pennsylvania</td>\n",
              "      <td>42091.0</td>\n",
              "      <td>42433</td>\n",
              "      <td>1266.0</td>\n",
              "    </tr>\n",
              "  </tbody>\n",
              "</table>\n",
              "</div>"
            ],
            "text/plain": [
              "              date      county         state     fips  cases  deaths\n",
              "835201  2020-12-16  Montgomery  Pennsylvania  42091.0  29656  1025.0\n",
              "838447  2020-12-17  Montgomery  Pennsylvania  42091.0  30172  1036.0\n",
              "841692  2020-12-18  Montgomery  Pennsylvania  42091.0  30755  1049.0\n",
              "844938  2020-12-19  Montgomery  Pennsylvania  42091.0  31092  1057.0\n",
              "848183  2020-12-20  Montgomery  Pennsylvania  42091.0  31421  1062.0\n",
              "851428  2020-12-21  Montgomery  Pennsylvania  42091.0  31711  1063.0\n",
              "854673  2020-12-22  Montgomery  Pennsylvania  42091.0  32268  1073.0\n",
              "857918  2020-12-23  Montgomery  Pennsylvania  42091.0  32738  1082.0\n",
              "861163  2020-12-24  Montgomery  Pennsylvania  42091.0  33226  1095.0\n",
              "864408  2020-12-25  Montgomery  Pennsylvania  42091.0  33702  1101.0\n",
              "867653  2020-12-26  Montgomery  Pennsylvania  42091.0  34146  1102.0\n",
              "870898  2020-12-27  Montgomery  Pennsylvania  42091.0  34422  1108.0\n",
              "874143  2020-12-28  Montgomery  Pennsylvania  42091.0  34736  1108.0\n",
              "877388  2020-12-29  Montgomery  Pennsylvania  42091.0  35086  1124.0\n",
              "880633  2020-12-30  Montgomery  Pennsylvania  42091.0  35592  1134.0\n",
              "883878  2020-12-31  Montgomery  Pennsylvania  42091.0  36131  1147.0\n",
              "887123  2021-01-01  Montgomery  Pennsylvania  42091.0  36598  1155.0\n",
              "890370  2021-01-02  Montgomery  Pennsylvania  42091.0  37109  1157.0\n",
              "893616  2021-01-03  Montgomery  Pennsylvania  42091.0  37427  1161.0\n",
              "896862  2021-01-04  Montgomery  Pennsylvania  42091.0  37560  1163.0\n",
              "900107  2021-01-05  Montgomery  Pennsylvania  42091.0  38101  1179.0\n",
              "903352  2021-01-06  Montgomery  Pennsylvania  42091.0  38549  1190.0\n",
              "906598  2021-01-07  Montgomery  Pennsylvania  42091.0  39388  1207.0\n",
              "909843  2021-01-08  Montgomery  Pennsylvania  42091.0  39939  1211.0\n",
              "913088  2021-01-09  Montgomery  Pennsylvania  42091.0  40432  1221.0\n",
              "916333  2021-01-10  Montgomery  Pennsylvania  42091.0  40964  1226.0\n",
              "919578  2021-01-11  Montgomery  Pennsylvania  42091.0  41270  1228.0\n",
              "922823  2021-01-12  Montgomery  Pennsylvania  42091.0  41651  1239.0\n",
              "926069  2021-01-13  Montgomery  Pennsylvania  42091.0  41961  1250.0\n",
              "929314  2021-01-14  Montgomery  Pennsylvania  42091.0  42433  1266.0"
            ]
          },
          "metadata": {
            "tags": []
          },
          "execution_count": 173
        }
      ]
    },
    {
      "cell_type": "markdown",
      "metadata": {
        "id": "ghscgOvhfcW7"
      },
      "source": [
        "**I plotted the line graph to show the trend in deaths as time passes over the course of a 30 day timeframe in Montgomery County, PA:**"
      ]
    },
    {
      "cell_type": "code",
      "metadata": {
        "colab": {
          "base_uri": "https://localhost:8080/",
          "height": 367
        },
        "id": "ftC71YY1fYf8",
        "outputId": "be4d4418-85fe-42e9-b2b1-a6a8275e3229"
      },
      "source": [
        "df_4.plot(kind='line', x='date', y='deaths', figsize=(15,5), title='Montgomery County, PA: Dates and Deaths')"
      ],
      "execution_count": null,
      "outputs": [
        {
          "output_type": "execute_result",
          "data": {
            "text/plain": [
              "<matplotlib.axes._subplots.AxesSubplot at 0x7fa7215edb38>"
            ]
          },
          "metadata": {
            "tags": []
          },
          "execution_count": 174
        },
        {
          "output_type": "display_data",
          "data": {
            "image/png": "[encoded data removed]",
            "text/plain": [
              "<Figure size 1080x360 with 1 Axes>"
            ]
          },
          "metadata": {
            "tags": [],
            "needs_background": "light"
          }
        }
      ]
    },
    {
      "cell_type": "markdown",
      "metadata": {
        "id": "GFiMGO4ccPxf"
      },
      "source": [
        "**I plotted the line graph showing the correlation between dates and deaths in Montgomery County, Pennsylvania, compared to the correlation between dates and deaths in Cook County, Illinois. Montgomery County's statistics in the past 30 days are plotted first, with Cook County being plotted second:**"
      ]
    },
    {
      "cell_type": "code",
      "metadata": {
        "colab": {
          "base_uri": "https://localhost:8080/",
          "height": 700
        },
        "id": "VaKiRq3PW6GJ",
        "outputId": "aec2d7cf-e8b8-478e-fbbb-0932b4822379"
      },
      "source": [
        "df_4.plot(kind='line', x='date', y='deaths', figsize=(15,5), title='Montgomery County, PA: Dates and Deaths')\r\n",
        "df_2.plot(kind='line', x='date', y='deaths', figsize=(15,5), title='Cook County, IL: Dates and Deaths')"
      ],
      "execution_count": null,
      "outputs": [
        {
          "output_type": "execute_result",
          "data": {
            "text/plain": [
              "<matplotlib.axes._subplots.AxesSubplot at 0x7fa7214d20f0>"
            ]
          },
          "metadata": {
            "tags": []
          },
          "execution_count": 175
        },
        {
          "output_type": "display_data",
          "data": {
            "image/png": "[encoded data removed]",
            "text/plain": [
              "<Figure size 1080x360 with 1 Axes>"
            ]
          },
          "metadata": {
            "tags": [],
            "needs_background": "light"
          }
        },
        {
          "output_type": "display_data",
          "data": {
            "image/png": "[encoded data removed]",
            "text/plain": [
              "<Figure size 1080x360 with 1 Axes>"
            ]
          },
          "metadata": {
            "tags": [],
            "needs_background": "light"
          }
        }
      ]
    },
    {
      "cell_type": "markdown",
      "metadata": {
        "id": "EciKLHoveJwf"
      },
      "source": [
        "**I compared the correlation between cases and deaths in the past 30 days in both Montgomery County, Pennsylvania and Cook County, Illinois:**"
      ]
    },
    {
      "cell_type": "code",
      "metadata": {
        "colab": {
          "base_uri": "https://localhost:8080/",
          "height": 700
        },
        "id": "ClQGTOBtcKFr",
        "outputId": "28b6fb29-ee5e-4e86-8335-7da390cfde79"
      },
      "source": [
        "df_4.plot(kind='line', x='cases', y='deaths', figsize=(15,5), title='Montgomery County, PA: Cases and Deaths')\r\n",
        "df_2.plot(kind='line', x='cases', y='deaths', figsize=(15,5), title='Cook County, IL: Cases and Deaths')"
      ],
      "execution_count": null,
      "outputs": [
        {
          "output_type": "execute_result",
          "data": {
            "text/plain": [
              "<matplotlib.axes._subplots.AxesSubplot at 0x7fa7214ba0b8>"
            ]
          },
          "metadata": {
            "tags": []
          },
          "execution_count": 176
        },
        {
          "output_type": "display_data",
          "data": {
            "image/png": "[encoded data removed]",
            "text/plain": [
              "<Figure size 1080x360 with 1 Axes>"
            ]
          },
          "metadata": {
            "tags": [],
            "needs_background": "light"
          }
        },
        {
          "output_type": "display_data",
          "data": {
            "image/png": "[encoded data removed]",
            "text/plain": [
              "<Figure size 1080x360 with 1 Axes>"
            ]
          },
          "metadata": {
            "tags": [],
            "needs_background": "light"
          }
        }
      ]
    },
    {
      "cell_type": "markdown",
      "metadata": {
        "id": "xsb6lIxKgDAT"
      },
      "source": [
        "**Conclusion**: *While Montgomery County, PA and Cook County, IL are vastly different both in demographics and data metrics, you can see that the trend is similar; both counties are dealing with an ever-increasing upward trend in cases and deaths and there seems to be no end in sight. However, Montgomery County, PA has fewer cases and deaths in comparison to Cook County, IL. This is because Montgomery County is a suburban township and is very far away from Philadelphia, the closest large, urban city nearby (a distance of about 150 miles). Meanwhile, Cook County, IL is in the center of Illinois' biggest urban city, Chicago, with a higher population as well as a higher population density. This explains why the numbers are exponentially higher in the charts outputted for Cook County, IL's COVID-19 death and case statistics in the past 30 days compared to that of Montgomery County, PA.*"
      ]
    },
    {
      "cell_type": "markdown",
      "metadata": {
        "id": "bFBTOYLBoeWU"
      },
      "source": [
        "Cook County, IL Population: 5,150,233 (from https://datacommons.org/place/geoId/17031, 2019)\r\n",
        "\r\n",
        "Montgomery County, PA Population: 830,915 (from https://datacommons.org/place/geoId/42091, 2019)\r\n"
      ]
    },
    {
      "cell_type": "code",
      "metadata": {
        "id": "aqqHyNh3fLPX"
      },
      "source": [
        ""
      ],
      "execution_count": null,
      "outputs": []
    }
  ]
}